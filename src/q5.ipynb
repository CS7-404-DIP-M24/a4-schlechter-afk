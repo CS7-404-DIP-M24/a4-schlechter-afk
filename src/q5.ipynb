{
 "cells": [
  {
   "cell_type": "markdown",
   "metadata": {},
   "source": [
    "# Task-5: Short Theory"
   ]
  },
  {
   "cell_type": "markdown",
   "metadata": {},
   "source": [
    "The Hough Transform is generally used for detecting shapes within images by transforming points from the image space to a parameter space. When detecting **lines**, the standard Hough Transform uses the polar representation of a line:\n",
    "\n",
    "$$\n",
    "\\rho = x \\cos \\theta + y \\sin \\theta.\n",
    "$$\n",
    "\n",
    "Here, each point $(x, y)$ in the image space maps to a sinusoidal curve in the two-dimensional parameter space $(\\rho, \\theta)$. The intersections of these curves indicate the presence of a line, corresponding to peaks in the accumulator array.\n",
    "\n",
    "In contrast, detecting **circles** requires considering the circle equation:\n",
    "\n",
    "$$\n",
    "(x - a)^2 + (y - b)^2 = r^2,\n",
    "$$\n",
    "\n",
    "where $(a, b)$ is the center and $r$ is the radius. Each edge point $(x, y)$ contributes to a cone in a three-dimensional parameter space $(a, b, r)$. The parameter space is thus three-dimensional, significantly increasing computational complexity. Peaks in this space correspond to circles in the image.\n",
    "\n",
    "The main difference lies in the dimensionality of the parameter space: two dimensions for lines and three for circles. This impacts computational complexity. For lines, the accumulator array has size proportional to the discretization levels of $\\rho$ and $\\theta$, resulting in $O(N^2)$ complexity, where $N$ is the number of discrete values. For circles, the accumulator array size increases to $O(N^3)$ due to the additional parameter $r$.\n",
    "\n",
    "Moreover, the increased parameter space for circles demands more memory and processing time. Each edge point influences multiple possible circle centers and radii, leading to more computations per point. Optimization techniques, such as using gradient information to reduce the parameter space, are often used to mitigate this.\n",
    "\n",
    "In summary, while the Hough Transform for line detection involves a two-dimensional parameter space and is computationally less intensive, circle detection requires a three-dimensional parameter space, resulting in higher computational complexity due to the increased number of parameters and the larger accumulator array needed."
   ]
  }
 ],
 "metadata": {
  "language_info": {
   "name": "python"
  }
 },
 "nbformat": 4,
 "nbformat_minor": 2
}
